{
 "cells": [
  {
   "cell_type": "code",
   "execution_count": 2,
   "metadata": {},
   "outputs": [],
   "source": [
    "# STEP 1: UPLOAD YOUR AUDIO FILE AND GET URL\n",
    "import requests\n",
    "import sys\n",
    "sys.path.append(\"/configure\")\n",
    "from configure import auth_key\n",
    "\n",
    "filename = '/Users/rickypinto/Documents/UpGrad/audio-to-text/SteveJobsSpeech_64kb.mp3' # Path to your audio file \n",
    "api_key =  auth_key # Auth key from https://www.assemblyai.com/\n",
    "upload_endpoint = 'https://api.assemblyai.com/v2/upload'\n",
    "\n",
    "def read_file(filename, chunk_size=5242880):\n",
    "    with open(filename, 'rb') as f:\n",
    "        while True:\n",
    "            data = f.read(chunk_size)\n",
    "            if not data:\n",
    "                break\n",
    "            yield data\n",
    "\n",
    "\n",
    "headers = {'authorization': api_key,\n",
    "           'content-type': 'application/json'}\n",
    "response = requests.post(upload_endpoint,\n",
    "                         headers=headers,\n",
    "                         data=read_file(filename))\n",
    "\n",
    "audio_url = response.json()['upload_url']"
   ]
  },
  {
   "cell_type": "code",
   "execution_count": 4,
   "metadata": {},
   "outputs": [],
   "source": [
    "# STEP 2: GET THE TRANSCRIPT REQUEST\n",
    "transcript_endpoint = \"https://api.assemblyai.com/v2/transcript\"\n",
    "\n",
    "response = requests.post(transcript_endpoint,\n",
    "                         headers=headers,\n",
    "                         json={\n",
    "                             \"audio_url\": audio_url,\n",
    "                             \"auto_chapters\": True\n",
    "                         })\n",
    "transcript_id = response.json()['id']"
   ]
  },
  {
   "cell_type": "code",
   "execution_count": 5,
   "metadata": {},
   "outputs": [
    {
     "name": "stdout",
     "output_type": "stream",
     "text": [
      "Status: processing\n",
      "Status: processing\n",
      "Status: processing\n",
      "Status: processing\n",
      "Status: processing\n",
      "Status: processing\n",
      "Status: processing\n",
      "Status: processing\n",
      "Status: processing\n",
      "Status: processing\n",
      "Status: processing\n",
      "Status: completed\n",
      "Transcript Saved\n"
     ]
    }
   ],
   "source": [
    "# STEP 3: SAVE THE TRANSCRIPT AND SUMMARY\n",
    "import os\n",
    "import sys\n",
    "import time\n",
    "import json\n",
    "\n",
    "polling_endpoint =  os.path.join(transcript_endpoint, transcript_id)\n",
    "\n",
    "status = ''\n",
    "while status != 'completed':\n",
    "    response_result = requests.get(\n",
    "        polling_endpoint,\n",
    "        headers=headers\n",
    "    )\n",
    "    status = response_result.json()['status']\n",
    "    print(f'Status: {status}')\n",
    "\n",
    "    if status == 'error':\n",
    "        sys.exit('Audio file failed to process.')\n",
    "    elif status != 'completed':\n",
    "        time.sleep(10)\n",
    "\n",
    "\n",
    "if status == 'completed':\n",
    "    filename = transcript_id + '.txt'\n",
    "    with open(filename, 'w') as f:\n",
    "        f.write(response_result.json()['text'])\n",
    "\n",
    "    filename = transcript_id + '_chapters.json'\n",
    "    with open(filename, 'w') as f:\n",
    "        chapters = response_result.json()['chapters']\n",
    "        json.dump(chapters, f, indent=4)\n",
    "\n",
    "    print('Transcript Saved')"
   ]
  }
 ],
 "metadata": {
  "kernelspec": {
   "display_name": "Python 3",
   "language": "python",
   "name": "python3"
  },
  "language_info": {
   "codemirror_mode": {
    "name": "ipython",
    "version": 3
   },
   "file_extension": ".py",
   "mimetype": "text/x-python",
   "name": "python",
   "nbconvert_exporter": "python",
   "pygments_lexer": "ipython3",
   "version": "3.8.8"
  }
 },
 "nbformat": 4,
 "nbformat_minor": 2
}
